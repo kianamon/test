{
 "cells": [
  {
   "cell_type": "code",
   "execution_count": 1,
   "metadata": {},
   "outputs": [],
   "source": [
    "import numpy as np \n",
    "import random\n",
    "import copy"
   ]
  },
  {
   "cell_type": "markdown",
   "metadata": {},
   "source": [
    "# Assignmet 1 Q1\n",
    "Shideh Shams Amir "
   ]
  },
  {
   "cell_type": "code",
   "execution_count": 2,
   "metadata": {},
   "outputs": [],
   "source": [
    "def get_blank_position(x):\n",
    "    return np.where(x == 0)\n",
    "\n",
    "def get_option(x):\n",
    "    i, j = get_blank_position(x)\n",
    "    up = 1 if (i - 1) in range(3) else 0\n",
    "    down = 1 if (i + 1) in range(3) else 0\n",
    "    left = 1 if (j - 1) in range(3) else 0\n",
    "    right = 1 if (j + 1) in range(3) else 0\n",
    "    return left, right, up, down\n",
    "\n",
    "\n",
    "\n",
    "def get_random_option(options):\n",
    "    moves = ['left', 'right', 'up', 'down']\n",
    "    choice = random.choice(options)\n",
    "    while not options[choice]:\n",
    "        choice = random.choice(options)\n",
    "    return moves[choice]\n",
    "\n",
    "\n",
    "def get_best_choice(initial, end, options):\n",
    "    moves = ['left', 'right', 'up', 'down']\n",
    "    score = 0\n",
    "    best_move = get_random_option(options)\n",
    "    for i, option in enumerate(options):\n",
    "        temp = copy.copy(initial)\n",
    "        if option:\n",
    "            move = moves[i]\n",
    "            temp = update(temp, move)\n",
    "            \n",
    "            if score < (initial == end).sum(): \n",
    "                score = (initial == end).sum()\n",
    "                best_move = move    \n",
    "    return move\n",
    "        \n",
    "            \n",
    "\n",
    "def update(x, move):\n",
    "    i, j = get_blank_position(x)\n",
    "    new_i, new_j = get_blank_position(x)\n",
    "    if move == 'left':\n",
    "        new_j -= 1\n",
    "    elif move == 'right':\n",
    "        new_j += 1 \n",
    "    elif move == 'up':\n",
    "        new_i -= 1\n",
    "    else:\n",
    "        new_i += 1\n",
    "       \n",
    "    x[i, j], x[new_i, new_j] = x[new_i, new_j], x[i, j]\n",
    "    \n",
    "    return x"
   ]
  },
  {
   "cell_type": "code",
   "execution_count": 3,
   "metadata": {},
   "outputs": [],
   "source": [
    "\n",
    "board_i =  np.matrix([[4, 3, 6], [8, 2, 7], [5, 1, 0]])\n",
    "board_e = np.matrix([[8, 1, 2], [7, 0, 3], [6, 5, 4]])\n",
    "\n",
    "\n",
    "\n",
    "def solve(initial, end):\n",
    "    count = 0 \n",
    "    path = []\n",
    "\n",
    "    while not (initial == end).all():\n",
    "        options = get_option(initial)\n",
    "\n",
    "    #     move = get_random_option(options)\n",
    "        move = get_best_choice(initial, end, options)\n",
    "        path.append(move)\n",
    "        count += 1\n",
    "        initial = update(initial, move)\n",
    "\n",
    "    print('Done', initial)\n",
    "    return path, count"
   ]
  },
  {
   "cell_type": "code",
   "execution_count": null,
   "metadata": {},
   "outputs": [],
   "source": [
    "solve(board_i, board_e)"
   ]
  }
 ],
 "metadata": {
  "kernelspec": {
   "display_name": "Python 3",
   "language": "python",
   "name": "python3"
  },
  "language_info": {
   "codemirror_mode": {
    "name": "ipython",
    "version": 3
   },
   "file_extension": ".py",
   "mimetype": "text/x-python",
   "name": "python",
   "nbconvert_exporter": "python",
   "pygments_lexer": "ipython3",
   "version": "3.7.1"
  }
 },
 "nbformat": 4,
 "nbformat_minor": 2
}
