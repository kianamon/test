{
 "cells": [
  {
   "cell_type": "markdown",
   "metadata": {},
   "source": [
    "# ASSIGNMENT 1 \n",
    "Shideh Shams Amiri "
   ]
  },
  {
   "cell_type": "code",
   "execution_count": 57,
   "metadata": {},
   "outputs": [],
   "source": [
    "import random \n",
    "import numpy as np \n",
    "import collections\n",
    "from copy import copy, deepcopy \n"
   ]
  },
  {
   "cell_type": "markdown",
   "metadata": {},
   "source": [
    "# Q1"
   ]
  },
  {
   "cell_type": "code",
   "execution_count": 58,
   "metadata": {},
   "outputs": [],
   "source": [
    "# initionalizing the the srat state and the goal state\n",
    "InitialBoard = np.matrix([[4, 3, 6], [8, 2, 7], [5, 1, 0]])\n",
    "\n",
    "FinalBoard = np.matrix([[8, 1, 2], [7, 0, 3], [6, 5, 4]])\n"
   ]
  },
  {
   "cell_type": "code",
   "execution_count": 66,
   "metadata": {},
   "outputs": [],
   "source": [
    "def find_blank(board):\n",
    "    for i in range(board.shape[0]):\n",
    "        for j in range(board.shape[1]):\n",
    "            if board[i, j] == 0:\n",
    "                index = [i, j]\n",
    "        else:\n",
    "            pass\n",
    "    return index"
   ]
  },
  {
   "cell_type": "code",
   "execution_count": 79,
   "metadata": {},
   "outputs": [],
   "source": [
    "def possible_movemnets(board):\n",
    "    i, j = find_blank(board)\n",
    "    #up, down, right, left\n",
    "    moves = [[i-1, j], [i+1, j], [i, j+1], [i, j-1]] \n",
    "    validindex = []\n",
    "    move_row = [1 if x[0] in range(0, board.shape[0]) else 0 for x in moves]\n",
    "    move_col = [1 if x[1] in range(0, board.shape[0]) else 0 for x in moves]\n",
    "    for k in range(len(moves)):\n",
    "        if move_row[k] + move_col[k] == 2:\n",
    "            validindex.append(moves[k])\n",
    "    return validindex"
   ]
  },
  {
   "cell_type": "code",
   "execution_count": 78,
   "metadata": {},
   "outputs": [],
   "source": [
    "def move_where(movement_options):\n",
    "    movement = random.choice (movement_options)\n",
    "    return movement"
   ]
  },
  {
   "cell_type": "code",
   "execution_count": null,
   "metadata": {},
   "outputs": [],
   "source": []
  },
  {
   "cell_type": "code",
   "execution_count": 69,
   "metadata": {},
   "outputs": [],
   "source": [
    "\n",
    "def board_movements(current_board, movement):\n",
    "    new_board = np.zeros(current_board.shape)\n",
    "    location_first = find_blank(current_board)\n",
    "    location_next = movement\n",
    "    \n",
    "    for i in range(current_board.shape[0]):\n",
    "        for j in range(current_board.shape[1]):\n",
    "            if [i, j] == new_location:\n",
    "                new_board[i, j] = 0\n",
    "            elif [i, j] == location_first:\n",
    "                new_board[i, j] = current_board[location_next[0], location_next[1]]\n",
    "            else:\n",
    "                new_board[i, j] = current_board[i, j]\n",
    "        return np.matrix(new_board)\n",
    "    \n",
    "\n",
    "    \n"
   ]
  },
  {
   "cell_type": "code",
   "execution_count": 73,
   "metadata": {},
   "outputs": [],
   "source": [
    "def play_board(current_board, goal_board):\n",
    "    if (current_board == goal_board).all():\n",
    "        return True\n",
    "    else:\n",
    "        return False"
   ]
  },
  {
   "cell_type": "code",
   "execution_count": 85,
   "metadata": {},
   "outputs": [],
   "source": [
    "def action_ongame(start_board, goal_board):\n",
    "    move_location = []\n",
    "    if play_board(start_board, goal_board):\n",
    "        return start_board\n",
    "    else:\n",
    "        current_board = deepcopy(start_board)\n",
    "        while play_board(current_board, goal_board) == False:\n",
    "            movetaken = move_where(possible_movemnets(current_board))\n",
    "            move_location.append(movetaken)\n",
    "            current_board = play_board(current_board, movetaken)\n",
    "            if play_board(current_board, goal_board):\n",
    "                return (current_board, move_location)"
   ]
  },
  {
   "cell_type": "code",
   "execution_count": null,
   "metadata": {},
   "outputs": [],
   "source": []
  },
  {
   "cell_type": "code",
   "execution_count": 88,
   "metadata": {},
   "outputs": [
    {
     "name": "stderr",
     "output_type": "stream",
     "text": [
      "/Users/shidehshamsamiri/miniconda3/lib/python3.7/site-packages/ipykernel_launcher.py:2: DeprecationWarning: elementwise == comparison failed; this will raise an error in the future.\n",
      "  \n"
     ]
    },
    {
     "ename": "AttributeError",
     "evalue": "'bool' object has no attribute 'all'",
     "output_type": "error",
     "traceback": [
      "\u001b[0;31m---------------------------------------------------------------------------\u001b[0m",
      "\u001b[0;31mAttributeError\u001b[0m                            Traceback (most recent call last)",
      "\u001b[0;32m<ipython-input-88-55b1226724b4>\u001b[0m in \u001b[0;36m<module>\u001b[0;34m\u001b[0m\n\u001b[0;32m----> 1\u001b[0;31m \u001b[0mfinalgoal\u001b[0m\u001b[0;34m,\u001b[0m \u001b[0mmovelog\u001b[0m \u001b[0;34m=\u001b[0m \u001b[0maction_ongame\u001b[0m\u001b[0;34m(\u001b[0m\u001b[0mInitialBoard\u001b[0m\u001b[0;34m,\u001b[0m \u001b[0mFinalBoard\u001b[0m\u001b[0;34m)\u001b[0m\u001b[0;34m\u001b[0m\u001b[0;34m\u001b[0m\u001b[0m\n\u001b[0m",
      "\u001b[0;32m<ipython-input-85-f1877aa2b182>\u001b[0m in \u001b[0;36maction_ongame\u001b[0;34m(start_board, goal_board)\u001b[0m\n\u001b[1;32m      8\u001b[0m             \u001b[0mmovetaken\u001b[0m \u001b[0;34m=\u001b[0m \u001b[0mmove_where\u001b[0m\u001b[0;34m(\u001b[0m\u001b[0mpossible_movemnets\u001b[0m\u001b[0;34m(\u001b[0m\u001b[0mcurrent_board\u001b[0m\u001b[0;34m)\u001b[0m\u001b[0;34m)\u001b[0m\u001b[0;34m\u001b[0m\u001b[0;34m\u001b[0m\u001b[0m\n\u001b[1;32m      9\u001b[0m             \u001b[0mmove_location\u001b[0m\u001b[0;34m.\u001b[0m\u001b[0mappend\u001b[0m\u001b[0;34m(\u001b[0m\u001b[0mmovetaken\u001b[0m\u001b[0;34m)\u001b[0m\u001b[0;34m\u001b[0m\u001b[0;34m\u001b[0m\u001b[0m\n\u001b[0;32m---> 10\u001b[0;31m             \u001b[0mcurrent_board\u001b[0m \u001b[0;34m=\u001b[0m \u001b[0mplay_board\u001b[0m\u001b[0;34m(\u001b[0m\u001b[0mcurrent_board\u001b[0m\u001b[0;34m,\u001b[0m \u001b[0mmovetaken\u001b[0m\u001b[0;34m)\u001b[0m\u001b[0;34m\u001b[0m\u001b[0;34m\u001b[0m\u001b[0m\n\u001b[0m\u001b[1;32m     11\u001b[0m             \u001b[0;32mif\u001b[0m \u001b[0mplay_board\u001b[0m\u001b[0;34m(\u001b[0m\u001b[0mcurrent_board\u001b[0m\u001b[0;34m,\u001b[0m \u001b[0mgoal_board\u001b[0m\u001b[0;34m)\u001b[0m\u001b[0;34m:\u001b[0m\u001b[0;34m\u001b[0m\u001b[0;34m\u001b[0m\u001b[0m\n\u001b[1;32m     12\u001b[0m                 \u001b[0;32mreturn\u001b[0m \u001b[0;34m(\u001b[0m\u001b[0mcurrent_board\u001b[0m\u001b[0;34m,\u001b[0m \u001b[0mmove_location\u001b[0m\u001b[0;34m)\u001b[0m\u001b[0;34m\u001b[0m\u001b[0;34m\u001b[0m\u001b[0m\n",
      "\u001b[0;32m<ipython-input-73-2fc9dbfa8556>\u001b[0m in \u001b[0;36mplay_board\u001b[0;34m(current_board, goal_board)\u001b[0m\n\u001b[1;32m      1\u001b[0m \u001b[0;32mdef\u001b[0m \u001b[0mplay_board\u001b[0m\u001b[0;34m(\u001b[0m\u001b[0mcurrent_board\u001b[0m\u001b[0;34m,\u001b[0m \u001b[0mgoal_board\u001b[0m\u001b[0;34m)\u001b[0m\u001b[0;34m:\u001b[0m\u001b[0;34m\u001b[0m\u001b[0;34m\u001b[0m\u001b[0m\n\u001b[0;32m----> 2\u001b[0;31m     \u001b[0;32mif\u001b[0m \u001b[0;34m(\u001b[0m\u001b[0mcurrent_board\u001b[0m \u001b[0;34m==\u001b[0m \u001b[0mgoal_board\u001b[0m\u001b[0;34m)\u001b[0m\u001b[0;34m.\u001b[0m\u001b[0mall\u001b[0m\u001b[0;34m(\u001b[0m\u001b[0;34m)\u001b[0m\u001b[0;34m:\u001b[0m\u001b[0;34m\u001b[0m\u001b[0;34m\u001b[0m\u001b[0m\n\u001b[0m\u001b[1;32m      3\u001b[0m         \u001b[0;32mreturn\u001b[0m \u001b[0;32mTrue\u001b[0m\u001b[0;34m\u001b[0m\u001b[0;34m\u001b[0m\u001b[0m\n\u001b[1;32m      4\u001b[0m     \u001b[0;32melse\u001b[0m\u001b[0;34m:\u001b[0m\u001b[0;34m\u001b[0m\u001b[0;34m\u001b[0m\u001b[0m\n\u001b[1;32m      5\u001b[0m         \u001b[0;32mreturn\u001b[0m \u001b[0;32mFalse\u001b[0m\u001b[0;34m\u001b[0m\u001b[0;34m\u001b[0m\u001b[0m\n",
      "\u001b[0;31mAttributeError\u001b[0m: 'bool' object has no attribute 'all'"
     ]
    }
   ],
   "source": [
    "finalgoal, movelog = action_ongame(InitialBoard, FinalBoard)"
   ]
  },
  {
   "cell_type": "code",
   "execution_count": 87,
   "metadata": {},
   "outputs": [
    {
     "ename": "NameError",
     "evalue": "name 'finalgoal' is not defined",
     "output_type": "error",
     "traceback": [
      "\u001b[0;31m---------------------------------------------------------------------------\u001b[0m",
      "\u001b[0;31mNameError\u001b[0m                                 Traceback (most recent call last)",
      "\u001b[0;32m<ipython-input-87-201071532d29>\u001b[0m in \u001b[0;36m<module>\u001b[0;34m\u001b[0m\n\u001b[0;32m----> 1\u001b[0;31m \u001b[0mfinalgoal\u001b[0m\u001b[0;34m\u001b[0m\u001b[0;34m\u001b[0m\u001b[0m\n\u001b[0m",
      "\u001b[0;31mNameError\u001b[0m: name 'finalgoal' is not defined"
     ]
    }
   ],
   "source": [
    "finalgoal"
   ]
  },
  {
   "cell_type": "code",
   "execution_count": 89,
   "metadata": {},
   "outputs": [
    {
     "ename": "NameError",
     "evalue": "name 'movelog' is not defined",
     "output_type": "error",
     "traceback": [
      "\u001b[0;31m---------------------------------------------------------------------------\u001b[0m",
      "\u001b[0;31mNameError\u001b[0m                                 Traceback (most recent call last)",
      "\u001b[0;32m<ipython-input-89-b1d1f2c8947f>\u001b[0m in \u001b[0;36m<module>\u001b[0;34m\u001b[0m\n\u001b[0;32m----> 1\u001b[0;31m \u001b[0mprint\u001b[0m\u001b[0;34m(\u001b[0m\u001b[0mmovelog\u001b[0m\u001b[0;34m)\u001b[0m\u001b[0;34m\u001b[0m\u001b[0;34m\u001b[0m\u001b[0m\n\u001b[0m",
      "\u001b[0;31mNameError\u001b[0m: name 'movelog' is not defined"
     ]
    }
   ],
   "source": [
    "print(movelog)"
   ]
  },
  {
   "cell_type": "code",
   "execution_count": null,
   "metadata": {},
   "outputs": [],
   "source": []
  }
 ],
 "metadata": {
  "kernelspec": {
   "display_name": "Python 3",
   "language": "python",
   "name": "python3"
  },
  "language_info": {
   "codemirror_mode": {
    "name": "ipython",
    "version": 3
   },
   "file_extension": ".py",
   "mimetype": "text/x-python",
   "name": "python",
   "nbconvert_exporter": "python",
   "pygments_lexer": "ipython3",
   "version": "3.7.1"
  }
 },
 "nbformat": 4,
 "nbformat_minor": 2
}
